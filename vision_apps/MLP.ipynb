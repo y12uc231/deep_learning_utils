{
 "cells": [
  {
   "cell_type": "markdown",
   "metadata": {
    "collapsed": true
   },
   "source": [
    "### Basic code for 2 Hidden Layer Netowork for MNIST sample set "
   ]
  },
  {
   "cell_type": "code",
   "execution_count": 1,
   "metadata": {
    "collapsed": true
   },
   "outputs": [],
   "source": [
    "import tensorflow as tf\n",
    "import pandas as pd\n",
    "import numpy as np"
   ]
  },
  {
   "cell_type": "code",
   "execution_count": 2,
   "metadata": {
    "collapsed": true
   },
   "outputs": [],
   "source": [
    "train_path = './data/mnist_example/digitstrain.csv'\n",
    "val_path = './data/mnist_example/digitsvalid.csv'"
   ]
  },
  {
   "cell_type": "code",
   "execution_count": 3,
   "metadata": {},
   "outputs": [
    {
     "name": "stdout",
     "output_type": "stream",
     "text": [
      "(2999, 785)\n",
      "(2999,)\n"
     ]
    }
   ],
   "source": [
    "a = pd.read_csv(train_path)\n",
    "print(a.shape)\n",
    "X_train = np.asarray(a.values[:,:784])\n",
    "Y_train = np.asarray(a.values[:,784])\n",
    "print(Y_train.shape)"
   ]
  },
  {
   "cell_type": "code",
   "execution_count": 4,
   "metadata": {
    "collapsed": true
   },
   "outputs": [],
   "source": [
    "n_inputs = 784\n",
    "n_hidden1 = 300\n",
    "n_hidden2 = 100\n",
    "n_outputs = 10\n"
   ]
  },
  {
   "cell_type": "code",
   "execution_count": 5,
   "metadata": {
    "collapsed": true
   },
   "outputs": [],
   "source": [
    "X = tf.placeholder(tf.float32, shape = [None, n_inputs], name = \"X\")\n",
    "y = tf.placeholder(tf.int64, shape = [None], name = \"y\")"
   ]
  },
  {
   "cell_type": "code",
   "execution_count": 6,
   "metadata": {
    "collapsed": true
   },
   "outputs": [],
   "source": [
    "#Method-1 : Create your own funtion\n",
    "def neuron_layer(X, n_neurons, name, activation = None):\n",
    "    with tf.name_scope(name):\n",
    "        n_inputs = int(X.get_shape()[1])\n",
    "        stddev = 2 / np.sqrt(n_inputs + n_neurons)\n",
    "        init = tf.truncated_normal((n_inputs, n_neurons), stddev = stddev)\n",
    "        W = tf.Variable(init, name = \"kernel\")\n",
    "        b = tf.Variable(tf.zeros([n_neurons]), name = \"bias\")\n",
    "        Z = tf.matmul(X,W) +b\n",
    "        if activation == None:\n",
    "            return Z\n",
    "        else:\n",
    "            return activation(Z)\n",
    "\n",
    "\n",
    "with tf.name_scope(\"dnn\"):\n",
    "    hidden1 = neuron_layer(X, n_hidden1, name = \"hidden1\", activation = tf.nn.relu)\n",
    "    hidden2 = neuron_layer(hidden1, n_hidden2, name= \"hidden2\", activation = tf.nn.relu)\n",
    "    logits = neuron_layer(hidden2, n_outputs, name = \"outputs\")"
   ]
  },
  {
   "cell_type": "code",
   "execution_count": 7,
   "metadata": {
    "collapsed": true
   },
   "outputs": [],
   "source": [
    "#Method -2: Use tf.layers.dense.\n",
    "\n",
    "with tf.name_scope(\"dnn2\"):\n",
    "    hidden1 = tf.layers.dense(X, n_hidden1, name = \"hidden1\", activation =tf.nn.relu)\n",
    "    hidden2 = tf.layers.dense(hidden1, n_hidden2, name = \"hidden2\", activation = tf.nn.relu)\n",
    "    logits = tf.layers.dense(hidden2, n_outputs, name= \"logits\", activation=tf.nn.elu)"
   ]
  },
  {
   "cell_type": "code",
   "execution_count": 8,
   "metadata": {
    "collapsed": true
   },
   "outputs": [],
   "source": [
    "with tf.name_scope(\"loss\"):\n",
    "    xentropy = tf.nn.sparse_softmax_cross_entropy_with_logits(labels = y,\n",
    "                                                             logits = logits)\n",
    "    loss = tf.reduce_mean(xentropy, name = \"loss\")"
   ]
  },
  {
   "cell_type": "code",
   "execution_count": null,
   "metadata": {},
   "outputs": [],
   "source": [
    "learning_rate = 0.01\n",
    "with tf.name_scope(\"train\"):\n",
    "    optimizer = tf.train.GradientDescentOptimizer(learning_rate= learning_rate)\n",
    "    training_op = optimizer.minimize(loss)\n",
    "\n",
    "with tf.name_scope(\"eval\"):\n",
    "    correct = tf.nn.in_top_k(logits, y, 1)\n",
    "    accuracy = tf.reduce_mean(tf.cast(correct, tf.float32))\n",
    "\n",
    "init = tf.global_variables_initializer()\n",
    "saver = tf.train.Saver()\n",
    "\n",
    "\n",
    "    "
   ]
  },
  {
   "cell_type": "code",
   "execution_count": null,
   "metadata": {},
   "outputs": [
    {
     "name": "stdout",
     "output_type": "stream",
     "text": [
      "2999\n",
      "0 0.811812\n",
      "2999\n",
      "1 0.852853\n",
      "2999\n",
      "2 0.866867\n",
      "2999\n",
      "3 0.885886\n",
      "2999\n",
      "4 0.884885\n",
      "2999\n",
      "5 0.895896\n",
      "2999\n",
      "6 0.891892\n",
      "2999\n",
      "7 0.898899\n",
      "2999\n",
      "8 0.893894\n",
      "2999\n",
      "9 0.893894\n",
      "2999\n",
      "10 0.898899\n",
      "2999\n",
      "11 0.896897\n",
      "2999\n",
      "12 0.8999\n",
      "2999\n",
      "13 0.901902\n",
      "2999\n",
      "14 0.907908\n",
      "2999\n",
      "15 0.902903\n",
      "2999\n",
      "16 0.904905\n",
      "2999\n",
      "17 0.897898\n",
      "2999\n",
      "18 0.912913\n",
      "2999\n",
      "19 0.90991\n",
      "2999\n",
      "20 0.907908\n",
      "2999\n",
      "21 0.90991\n",
      "2999\n",
      "22 0.907908\n",
      "2999\n",
      "23 0.913914\n",
      "2999\n",
      "24 0.90991\n",
      "2999\n",
      "25 0.913914\n",
      "2999\n",
      "26 0.913914\n",
      "2999\n",
      "27 0.915916\n",
      "2999\n",
      "28 0.916917\n",
      "2999\n",
      "29 0.917918\n",
      "2999\n",
      "30 0.916917\n",
      "2999\n",
      "31 0.916917\n",
      "2999\n",
      "32 0.917918\n",
      "2999\n",
      "33 0.918919\n",
      "2999\n",
      "34 0.921922\n",
      "2999\n",
      "35 0.916917\n",
      "2999\n",
      "36 0.918919\n",
      "2999\n",
      "37 0.91992\n",
      "2999\n",
      "38 0.921922\n",
      "2999\n",
      "39 0.918919\n",
      "2999\n",
      "40 0.920921\n",
      "2999\n",
      "41 0.922923\n",
      "2999\n"
     ]
    }
   ],
   "source": [
    "batch_size = 10\n",
    "b = pd.read_csv(val_path)\n",
    "test = b.values \n",
    "data = a.values\n",
    "np.random.shuffle(data)\n",
    "with tf.Session() as sess:\n",
    "    init.run()\n",
    "    \n",
    "    for epoch in range(200):\n",
    "        np.random.shuffle(data)\n",
    "        ind = 0\n",
    "        print(data.shape[0])\n",
    "        while ind < data.shape[0]:\n",
    "            X_batch = data[ind:ind+batch_size, :784]\n",
    "            y_batch = data[ind:ind+batch_size,784]\n",
    "            sess.run(training_op, feed_dict = {X : X_batch, y : y_batch})\n",
    "            ind += batch_size\n",
    "        acc_train = accuracy.eval(feed_dict = {X : test[:,:784], y : test[:,784]})\n",
    "        \n",
    "        #print(type(weights_visual), weights_visual.shape)\n",
    "        print(epoch, acc_train)\n",
    "    save_path = saver.save(sess, './my_final_model.ckpt')"
   ]
  },
  {
   "cell_type": "code",
   "execution_count": null,
   "metadata": {
    "collapsed": true
   },
   "outputs": [],
   "source": []
  }
 ],
 "metadata": {
  "kernelspec": {
   "display_name": "Python 3",
   "language": "python",
   "name": "python3"
  },
  "language_info": {
   "codemirror_mode": {
    "name": "ipython",
    "version": 3
   },
   "file_extension": ".py",
   "mimetype": "text/x-python",
   "name": "python",
   "nbconvert_exporter": "python",
   "pygments_lexer": "ipython3",
   "version": "3.6.3"
  }
 },
 "nbformat": 4,
 "nbformat_minor": 2
}
