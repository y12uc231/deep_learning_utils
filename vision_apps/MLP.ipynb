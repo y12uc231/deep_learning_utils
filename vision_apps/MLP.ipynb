{
 "cells": [
  {
   "cell_type": "markdown",
   "metadata": {
    "collapsed": true
   },
   "source": [
    "### Basic code for 2 Hidden Layer Netowork for MNIST sample set "
   ]
  },
  {
   "cell_type": "code",
   "execution_count": 1,
   "metadata": {
    "collapsed": true
   },
   "outputs": [],
   "source": [
    "import tensorflow as tf\n",
    "import pandas as pd\n",
    "import numpy as np"
   ]
  },
  {
   "cell_type": "code",
   "execution_count": 2,
   "metadata": {
    "collapsed": true
   },
   "outputs": [],
   "source": [
    "train_path = './data/mnist_example/digitstrain.csv'\n",
    "val_path = './data/mnist_example/digitsvalid.csv'"
   ]
  },
  {
   "cell_type": "code",
   "execution_count": 3,
   "metadata": {},
   "outputs": [
    {
     "name": "stdout",
     "output_type": "stream",
     "text": [
      "(2999, 785)\n",
      "(2999,)\n"
     ]
    }
   ],
   "source": [
    "a = pd.read_csv(train_path)\n",
    "print(a.shape)\n",
    "X_train = np.asarray(a.values[:,:784])\n",
    "Y_train = np.asarray(a.values[:,784])\n",
    "print(Y_train.shape)"
   ]
  },
  {
   "cell_type": "code",
   "execution_count": 4,
   "metadata": {
    "collapsed": true
   },
   "outputs": [],
   "source": [
    "n_inputs = 784\n",
    "n_hidden1 = 300\n",
    "n_hidden2 = 100\n",
    "n_outputs = 10\n"
   ]
  },
  {
   "cell_type": "code",
   "execution_count": 5,
   "metadata": {
    "collapsed": true
   },
   "outputs": [],
   "source": [
    "X = tf.placeholder(tf.float32, shape = [None, n_inputs], name = \"X\")\n",
    "y = tf.placeholder(tf.int64, shape = [None], name = \"y\")"
   ]
  },
  {
   "cell_type": "code",
   "execution_count": 6,
   "metadata": {
    "collapsed": true
   },
   "outputs": [],
   "source": [
    "#Method-1 : Create your own funtion\n",
    "def neuron_layer(X, n_neurons, name, activation = None):\n",
    "    with tf.name_scope(name):\n",
    "        n_inputs = int(X.get_shape()[1])\n",
    "        stddev = 2 / np.sqrt(n_inputs + n_neurons)\n",
    "        init = tf.truncated_normal((n_inputs, n_neurons), stddev = stddev)\n",
    "        W = tf.Variable(init, name = \"kernel\")\n",
    "        b = tf.Variable(tf.zeros([n_neurons]), name = \"bias\")\n",
    "        Z = tf.matmul(X,W) +b\n",
    "        if activation == None:\n",
    "            return Z\n",
    "        else:\n",
    "            return activation(Z)\n",
    "\n",
    "\n",
    "with tf.name_scope(\"dnn\"):\n",
    "    hidden1 = neuron_layer(X, n_hidden1, name = \"hidden1\", activation = tf.nn.relu)\n",
    "    hidden2 = neuron_layer(hidden1, n_hidden2, name= \"hidden2\", activation = tf.nn.relu)\n",
    "    logits = neuron_layer(hidden2, n_outputs, name = \"outputs\")"
   ]
  },
  {
   "cell_type": "code",
   "execution_count": 7,
   "metadata": {
    "collapsed": true
   },
   "outputs": [],
   "source": [
    "#Method -2: Use tf.layers.dense.\n",
    "\n",
    "with tf.name_scope(\"dnn2\"):\n",
    "    hidden1 = tf.layers.dense(X, n_hidden1, name = \"hidden1\", activation =tf.nn.relu)\n",
    "    hidden2 = tf.layers.dense(hidden1, n_hidden2, name = \"hidden2\", activation = tf.nn.relu)\n",
    "    logits = tf.layers.dense(hidden2, n_outputs, name= \"logits\", activation=tf.nn.elu)"
   ]
  },
  {
   "cell_type": "code",
   "execution_count": 8,
   "metadata": {
    "collapsed": true
   },
   "outputs": [],
   "source": [
    "with tf.name_scope(\"loss\"):\n",
    "    xentropy = tf.nn.sparse_softmax_cross_entropy_with_logits(labels = y,\n",
    "                                                             logits = logits)\n",
    "    loss = tf.reduce_mean(xentropy, name = \"loss\")"
   ]
  },
  {
   "cell_type": "code",
   "execution_count": 9,
   "metadata": {},
   "outputs": [],
   "source": [
    "learning_rate = 0.01\n",
    "with tf.name_scope(\"train\"):\n",
    "    optimizer = tf.train.GradientDescentOptimizer(learning_rate= learning_rate)\n",
    "    training_op = optimizer.minimize(loss)\n",
    "\n",
    "with tf.name_scope(\"eval\"):\n",
    "    correct = tf.nn.in_top_k(logits, y, 1)\n",
    "    accuracy = tf.reduce_mean(tf.cast(correct, tf.float32))\n",
    "\n",
    "init = tf.global_variables_initializer()\n",
    "saver = tf.train.Saver()\n",
    "\n",
    "\n",
    "    "
   ]
  },
  {
   "cell_type": "code",
   "execution_count": 10,
   "metadata": {},
   "outputs": [
    {
     "name": "stdout",
     "output_type": "stream",
     "text": [
      "2999\n",
      "0 0.207207\n",
      "2999\n",
      "1 0.437437\n",
      "2999\n",
      "2 0.575576\n",
      "2999\n",
      "3 0.671672\n",
      "2999\n",
      "4 0.711712\n",
      "2999\n",
      "5 0.760761\n",
      "2999\n",
      "6 0.774775\n",
      "2999\n",
      "7 0.800801\n",
      "2999\n",
      "8 0.811812\n",
      "2999\n",
      "9 0.817818\n",
      "2999\n",
      "10 0.828829\n",
      "2999\n",
      "11 0.840841\n",
      "2999\n",
      "12 0.848849\n",
      "2999\n",
      "13 0.83984\n",
      "2999\n",
      "14 0.857858\n",
      "2999\n",
      "15 0.858859\n",
      "2999\n",
      "16 0.858859\n",
      "2999\n",
      "17 0.861862\n",
      "2999\n",
      "18 0.858859\n",
      "2999\n",
      "19 0.864865\n",
      "2999\n",
      "20 0.861862\n",
      "2999\n",
      "21 0.866867\n",
      "2999\n",
      "22 0.868869\n",
      "2999\n",
      "23 0.873874\n",
      "2999\n",
      "24 0.871872\n",
      "2999\n",
      "25 0.876877\n",
      "2999\n",
      "26 0.872873\n",
      "2999\n",
      "27 0.875876\n",
      "2999\n",
      "28 0.873874\n",
      "2999\n",
      "29 0.877878\n",
      "2999\n",
      "30 0.881882\n",
      "2999\n",
      "31 0.878879\n",
      "2999\n",
      "32 0.880881\n",
      "2999\n",
      "33 0.878879\n",
      "2999\n",
      "34 0.881882\n",
      "2999\n",
      "35 0.87988\n",
      "2999\n",
      "36 0.87988\n",
      "2999\n",
      "37 0.882883\n",
      "2999\n",
      "38 0.87988\n",
      "2999\n",
      "39 0.880881\n",
      "2999\n",
      "40 0.883884\n",
      "2999\n",
      "41 0.885886\n",
      "2999\n",
      "42 0.885886\n",
      "2999\n",
      "43 0.884885\n",
      "2999\n",
      "44 0.884885\n",
      "2999\n",
      "45 0.886887\n",
      "2999\n",
      "46 0.886887\n",
      "2999\n",
      "47 0.887888\n",
      "2999\n",
      "48 0.888889\n",
      "2999\n",
      "49 0.887888\n",
      "2999\n",
      "50 0.88989\n",
      "2999\n",
      "51 0.888889\n",
      "2999\n",
      "52 0.888889\n",
      "2999\n",
      "53 0.886887\n",
      "2999\n",
      "54 0.888889\n",
      "2999\n",
      "55 0.890891\n",
      "2999\n",
      "56 0.890891\n",
      "2999\n",
      "57 0.88989\n",
      "2999\n",
      "58 0.887888\n",
      "2999\n",
      "59 0.888889\n",
      "2999\n",
      "60 0.887888\n",
      "2999\n",
      "61 0.888889\n",
      "2999\n",
      "62 0.887888\n",
      "2999\n",
      "63 0.890891\n",
      "2999\n",
      "64 0.890891\n",
      "2999\n",
      "65 0.890891\n",
      "2999\n",
      "66 0.892893\n",
      "2999\n",
      "67 0.890891\n",
      "2999\n",
      "68 0.892893\n",
      "2999\n",
      "69 0.893894\n",
      "2999\n",
      "70 0.894895\n",
      "2999\n",
      "71 0.894895\n",
      "2999\n",
      "72 0.892893\n",
      "2999\n",
      "73 0.898899\n",
      "2999\n",
      "74 0.893894\n",
      "2999\n",
      "75 0.895896\n",
      "2999\n",
      "76 0.894895\n",
      "2999\n",
      "77 0.896897\n",
      "2999\n",
      "78 0.898899\n",
      "2999\n",
      "79 0.898899\n",
      "2999\n",
      "80 0.896897\n",
      "2999\n",
      "81 0.897898\n",
      "2999\n",
      "82 0.895896\n",
      "2999\n",
      "83 0.8999\n",
      "2999\n",
      "84 0.898899\n",
      "2999\n",
      "85 0.8999\n",
      "2999\n",
      "86 0.8999\n",
      "2999\n",
      "87 0.896897\n",
      "2999\n",
      "88 0.8999\n",
      "2999\n",
      "89 0.8999\n",
      "2999\n",
      "90 0.896897\n",
      "2999\n",
      "91 0.901902\n",
      "2999\n",
      "92 0.900901\n",
      "2999\n",
      "93 0.896897\n",
      "2999\n",
      "94 0.8999\n",
      "2999\n",
      "95 0.8999\n",
      "2999\n",
      "96 0.896897\n",
      "2999\n",
      "97 0.8999\n",
      "2999\n",
      "98 0.8999\n",
      "2999\n",
      "99 0.897898\n"
     ]
    }
   ],
   "source": [
    "batch_size = 100\n",
    "b = pd.read_csv(val_path)\n",
    "test = b.values \n",
    "data = a.values\n",
    "np.random.shuffle(data)\n",
    "with tf.Session() as sess:\n",
    "    init.run()\n",
    "    \n",
    "    for epoch in range(100):\n",
    "        np.random.shuffle(data)\n",
    "        ind = 0\n",
    "        print(data.shape[0])\n",
    "        while ind < data.shape[0]:\n",
    "            X_batch = data[ind:ind+batch_size, :784]\n",
    "            y_batch = data[ind:ind+batch_size,784]\n",
    "            sess.run(training_op, feed_dict = {X : X_batch, y : y_batch})\n",
    "            ind += batch_size\n",
    "        acc_train = accuracy.eval(feed_dict = {X : test[:,:784], y : test[:,784]})\n",
    "        \n",
    "        #print(type(weights_visual), weights_visual.shape)\n",
    "        print(epoch, acc_train)\n",
    "    save_path = saver.save(sess, './trained_models/MLP.ckpt')"
   ]
  },
  {
   "cell_type": "code",
   "execution_count": null,
   "metadata": {
    "collapsed": true
   },
   "outputs": [],
   "source": []
  },
  {
   "cell_type": "code",
   "execution_count": null,
   "metadata": {
    "collapsed": true
   },
   "outputs": [],
   "source": []
  },
  {
   "cell_type": "code",
   "execution_count": null,
   "metadata": {
    "collapsed": true
   },
   "outputs": [],
   "source": []
  }
 ],
 "metadata": {
  "kernelspec": {
   "display_name": "Python 3",
   "language": "python",
   "name": "python3"
  },
  "language_info": {
   "codemirror_mode": {
    "name": "ipython",
    "version": 3
   },
   "file_extension": ".py",
   "mimetype": "text/x-python",
   "name": "python",
   "nbconvert_exporter": "python",
   "pygments_lexer": "ipython3",
   "version": "3.6.3"
  }
 },
 "nbformat": 4,
 "nbformat_minor": 2
}
